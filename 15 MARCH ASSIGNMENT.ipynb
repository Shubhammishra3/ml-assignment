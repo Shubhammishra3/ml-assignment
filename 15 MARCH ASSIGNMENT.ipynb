{
 "cells": [
  {
   "cell_type": "code",
   "execution_count": null,
   "id": "26cc29d4-cd4a-41a4-bdb8-4cd4b7665ca3",
   "metadata": {},
   "outputs": [],
   "source": [
    "\"\"\"                           [ASSIGNMENT]\n",
    "1] Explain the following with an example:\n",
    "a ) artificial intelligence \n",
    "b) machine learning\n",
    "c) deep learning\n",
    "\n",
    "answer] Machine Learning is a sub-category of AI, and Deep Learning is a sub-category of ML, meaning they are both forms of AI.\n",
    "\n",
    "Artificial intelligence is the broad idea that machines can intelligently execute tasks by mimicking human behaviours and \n",
    "thought processes.\n",
    "example = self driving car\n",
    "\n",
    "machine learning is a subset of AI , it provide stats tools to analyze , visualize , predictive model , forcasting.\n",
    "example = recomendation system\n",
    "\n",
    "deep learning execute task by mimicking human brain\n",
    "example : object detection\n"
   ]
  },
  {
   "cell_type": "code",
   "execution_count": null,
   "id": "5718d745-ce92-4aeb-8969-e278bca06592",
   "metadata": {},
   "outputs": [],
   "source": []
  },
  {
   "cell_type": "code",
   "execution_count": null,
   "id": "472113a5-1d90-4ba2-a333-85edd38a1c1a",
   "metadata": {},
   "outputs": [],
   "source": [
    "\"\"\"\n",
    "2] What is supervised learning ? list some examples of supervised learning.\n",
    "\n",
    "answer]Supervised learning is the types of machine learning in which machines are trained using well \"labelled\" training data,\n",
    "and on basis of that data, machines predict the output. The labelled data means some input data is already tagged with the \n",
    "correct output.\n",
    "Some common examples of supervised learning include spam filters, fraud detection systems, recommendation engines,\n",
    "and image recognition systems.20"
   ]
  },
  {
   "cell_type": "code",
   "execution_count": null,
   "id": "4de27236-5e2a-4ccc-9247-7fd744476579",
   "metadata": {},
   "outputs": [],
   "source": []
  },
  {
   "cell_type": "code",
   "execution_count": null,
   "id": "a83e0f74-8a31-4ff7-8976-a43872e1efe3",
   "metadata": {},
   "outputs": [],
   "source": [
    "\"\"\"\n",
    "3] what is unsupervised learning ? list some examples\n",
    "\n",
    "answer] Unsupervised learning, also known as unsupervised machine learning, uses machine learning algorithms to analyze and \n",
    "cluster unlabeled datasets. These algorithms discover hidden patterns or data groupings without the need for human \n",
    "intervention.\n",
    "Some use cases for unsupervised learning — more specifically, clustering — include: Customer segmentation, or understanding \n",
    "different customer groups around which to build marketing or other business strategies. Genetics, for example clustering DNA \n",
    "patterns to analyze evolutionary biology."
   ]
  },
  {
   "cell_type": "code",
   "execution_count": null,
   "id": "f729eaf4-6f52-4acb-995f-c43a2d2a9bc2",
   "metadata": {},
   "outputs": [],
   "source": []
  },
  {
   "cell_type": "code",
   "execution_count": null,
   "id": "9260885c-e5f0-413c-b918-2e99b561d0dc",
   "metadata": {},
   "outputs": [],
   "source": [
    "\"\"\"\n",
    "4] What is difference between AI , ML ,DL , DS?\n",
    "\n",
    "answer]  Machine Learning is a sub-category of AI, and Deep Learning is a sub-category of ML, meaning they are both forms of \n",
    "AI.\n",
    "\n",
    "Artificial intelligence is the broad idea that machines can intelligently execute tasks by mimicking human behaviours and \n",
    "thought processes.\n",
    "example = self driving car\n",
    "\n",
    "machine learning is a subset of AI , it provide stats tools to analyze , visualize , predictive model , forcasting.\n",
    "example = recomendation system\n",
    "\n",
    "deep learning execute task by mimicking human brain\n",
    "example : object detection\n",
    "\n",
    "Data science is the study of data to extract meaningful insights for business. It is a multidisciplinary approach that\n",
    "combines principles and practices from the fields of mathematics, statistics, artificial intelligence, and computer \n",
    "engineering to analyze large amounts of data."
   ]
  },
  {
   "cell_type": "code",
   "execution_count": null,
   "id": "d9eb07d8-2871-47ef-ac51-031fa57526ab",
   "metadata": {},
   "outputs": [],
   "source": []
  },
  {
   "cell_type": "code",
   "execution_count": null,
   "id": "421e18e7-5dd5-4e71-b209-453eb8456662",
   "metadata": {},
   "outputs": [],
   "source": [
    "\"\"\"\n",
    "5] What are the difference between supervised , unsupervised and semisupervised learning? \n",
    "\n",
    "ANSWER] Supervised learning is the types of machine learning in which machines are trained using well \"labelled\" training data,\n",
    "and on basis of that data, machines predict the output. The labelled data means some input data is already tagged with the \n",
    "correct output.\n",
    "\n",
    "Unsupervised learning, also known as unsupervised machine learning, uses machine learning algorithms to analyze and \n",
    "cluster unlabeled datasets. These algorithms discover hidden patterns or data groupings without the need for human \n",
    "intervention.\n",
    "\n",
    "Semi-supervised learning falls in-between supervised and unsupervised learning. Here, while training the model, the\n",
    "training dataset comprises of a small amount of labeled data and a large amount of unlabeled data. This can also be taken as \n",
    "an example for weak supervision."
   ]
  },
  {
   "cell_type": "code",
   "execution_count": null,
   "id": "2c1e6fed-0cbc-4c04-bd82-6ca8cb2fcec5",
   "metadata": {},
   "outputs": [],
   "source": []
  },
  {
   "cell_type": "code",
   "execution_count": null,
   "id": "69f9f11f-9fdf-4009-81f4-09eb8ca98007",
   "metadata": {},
   "outputs": [],
   "source": [
    "\"\"\"\n",
    "6] What is train , test , and validation split ? explain the importance of each term.\n",
    "\n",
    "ANSWER] \n",
    "\n",
    "Training data is the set of the data on which the actual training takes place. Validation split helps to improve the model\n",
    "performance by fine-tuning the model after each epoch. The test set informs us about the final accuracy of the model after \n",
    "completing the training phase."
   ]
  },
  {
   "cell_type": "code",
   "execution_count": null,
   "id": "126f92f1-7b10-4d00-a2e8-5068dcc17408",
   "metadata": {},
   "outputs": [],
   "source": []
  },
  {
   "cell_type": "code",
   "execution_count": null,
   "id": "cf01cf24-91e2-452e-b124-c7eb135ec8ce",
   "metadata": {},
   "outputs": [],
   "source": [
    "\"\"\"\n",
    "7] How can unsupervised learning be used in anomaly detection?\n",
    "\n",
    "ANSWER] Anomaly detection techniques of unsupervised nature assume that normal data points occur considerably more frequently \n",
    "than anomalous data points. This assumption is used to classify data points that occur less frequently as anomalies. \n",
    "Unsupervised techniques assign each data point a score instead of a label."
   ]
  },
  {
   "cell_type": "code",
   "execution_count": null,
   "id": "fc5be38a-0e4a-4126-95bc-ba5303ed7678",
   "metadata": {},
   "outputs": [],
   "source": []
  },
  {
   "cell_type": "code",
   "execution_count": null,
   "id": "8e07b427-5da2-444d-9378-73a8c4589dda",
   "metadata": {},
   "outputs": [],
   "source": [
    "\"\"\"\n",
    "8] List down some commonly used supervised learning algorithms and unsupervised learning algorithms.\n",
    "\n",
    "ANSWER] The most commonly used Supervised Learning algorithms are decision tree, logistic regression, linear regression,\n",
    "support vector machine. The most commonly used Unsupervised Learning algorithms are k-means clustering, hierarchical\n",
    "clustering, and apriori algorithm."
   ]
  },
  {
   "cell_type": "code",
   "execution_count": null,
   "id": "9bf9075a-9ddd-44d7-a9bc-834eebd779f3",
   "metadata": {},
   "outputs": [],
   "source": []
  },
  {
   "cell_type": "code",
   "execution_count": null,
   "id": "dbe2ff36-47f3-406b-b097-844e9ccab323",
   "metadata": {},
   "outputs": [],
   "source": []
  },
  {
   "cell_type": "code",
   "execution_count": null,
   "id": "00338b7a-441a-4fbe-9609-1bc01f132db5",
   "metadata": {},
   "outputs": [],
   "source": []
  },
  {
   "cell_type": "code",
   "execution_count": null,
   "id": "ef6921e1-d4a0-426b-899e-0c8b4a677ac2",
   "metadata": {},
   "outputs": [],
   "source": []
  },
  {
   "cell_type": "code",
   "execution_count": null,
   "id": "cb630741-47f6-40d7-aabf-4cd24b317a67",
   "metadata": {},
   "outputs": [],
   "source": []
  },
  {
   "cell_type": "code",
   "execution_count": null,
   "id": "b616670a-eb2d-480e-8f51-f881c012e0f4",
   "metadata": {},
   "outputs": [],
   "source": []
  },
  {
   "cell_type": "code",
   "execution_count": null,
   "id": "4ded64a5-5923-4900-a641-1903d7fa173f",
   "metadata": {},
   "outputs": [],
   "source": []
  },
  {
   "cell_type": "code",
   "execution_count": null,
   "id": "ac3631fa-1f6b-477e-b283-d08cbdf3fd7c",
   "metadata": {},
   "outputs": [],
   "source": []
  },
  {
   "cell_type": "code",
   "execution_count": null,
   "id": "eda54462-7fd0-4aeb-b979-1f87d1edcd1c",
   "metadata": {},
   "outputs": [],
   "source": []
  },
  {
   "cell_type": "code",
   "execution_count": null,
   "id": "7db466d9-ab02-4c3b-b0c7-c13997e724e4",
   "metadata": {},
   "outputs": [],
   "source": []
  },
  {
   "cell_type": "code",
   "execution_count": null,
   "id": "edd656d6-e442-407b-9251-6df7ae7d59b0",
   "metadata": {},
   "outputs": [],
   "source": []
  }
 ],
 "metadata": {
  "kernelspec": {
   "display_name": "Python 3 (ipykernel)",
   "language": "python",
   "name": "python3"
  },
  "language_info": {
   "codemirror_mode": {
    "name": "ipython",
    "version": 3
   },
   "file_extension": ".py",
   "mimetype": "text/x-python",
   "name": "python",
   "nbconvert_exporter": "python",
   "pygments_lexer": "ipython3",
   "version": "3.10.6"
  }
 },
 "nbformat": 4,
 "nbformat_minor": 5
}
