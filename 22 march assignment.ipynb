{
 "cells": [
  {
   "cell_type": "code",
   "execution_count": null,
   "id": "8daa75cd-0d3c-4306-9521-c1fe225e60ab",
   "metadata": {},
   "outputs": [],
   "source": [
    "\"\"\"                                   [assignment]\n",
    "\n",
    "Q1. Pearson correlation coefficient is a measure of the linear relationship between two variables. Suppose\n",
    "you have collected data on the amount of time students spend studying for an exam and their final exam\n",
    "scores. Calculate the Pearson correlation coefficient between these two variables and interpret the result.\n"
   ]
  },
  {
   "cell_type": "code",
   "execution_count": 2,
   "id": "4b8e1675-1efb-44e7-8902-c357c37da62d",
   "metadata": {},
   "outputs": [
    {
     "name": "stdout",
     "output_type": "stream",
     "text": [
      "Pearson correlation coefficient: 1.0\n"
     ]
    }
   ],
   "source": [
    "import numpy as np\n",
    "\n",
    "# Example data\n",
    "study_time = [10, 20, 30, 40, 50]  # Amount of time spent studying (in hours)\n",
    "exam_scores = [60, 70, 80, 90, 100]  # Corresponding exam scores\n",
    "\n",
    "# Calculate the Pearson correlation coefficient\n",
    "correlation_coefficient = np.corrcoef(study_time, exam_scores)[0,1]\n",
    "\n",
    "print(\"Pearson correlation coefficient:\", correlation_coefficient)\n"
   ]
  },
  {
   "cell_type": "code",
   "execution_count": null,
   "id": "02ed676e-2434-4d97-a1f2-ccfcf8cbb6e0",
   "metadata": {},
   "outputs": [],
   "source": [
    "\"\"\" study time is 100 percent related to exam score, higher the study time higher the score."
   ]
  },
  {
   "cell_type": "code",
   "execution_count": null,
   "id": "48603417-ba0a-4c5a-b8c8-58858a803529",
   "metadata": {},
   "outputs": [],
   "source": [
    "\"\"\"\n",
    "Q2. Spearman's rank correlation is a measure of the monotonic relationship between two variables.\n",
    "Suppose you have collected data on the amount of sleep individuals get each night and their overall job\n",
    "satisfaction level on a scale of 1 to 10. Calculate the Spearman's rank correlation between these two\n",
    "variables and interpret the result."
   ]
  },
  {
   "cell_type": "code",
   "execution_count": 2,
   "id": "1666a321-a1d7-4280-9e87-9e21ca787640",
   "metadata": {},
   "outputs": [
    {
     "name": "stdout",
     "output_type": "stream",
     "text": [
      "Spearman's rank correlation coefficient: 0.6668859288553503\n",
      "p-value: 0.21889398131323154\n"
     ]
    }
   ],
   "source": [
    "from scipy import stats\n",
    "\n",
    "# Example data\n",
    "sleep_hours = [6, 7, 5, 8, 6]  # Amount of sleep (in hours)\n",
    "job_satisfaction = [8, 7, 6, 9, 5]  # Overall job satisfaction level\n",
    "\n",
    "# Calculate the Spearman's rank correlation coefficient\n",
    "correlation_coefficient, p_value = stats.spearmanr(sleep_hours, job_satisfaction)\n",
    "\n",
    "print(\"Spearman's rank correlation coefficient:\", correlation_coefficient)\n",
    "print(\"p-value:\", p_value)\n"
   ]
  },
  {
   "cell_type": "markdown",
   "id": "40f662fe-9ae1-441c-9373-5264ba615b6e",
   "metadata": {},
   "source": [
    "\"\"\"\n",
    "The Spearman's rank correlation coefficient ranges from -1 to 1, similar to the Pearson correlation coefficient. However, \n",
    "Spearman's correlation measures the monotonic relationship, which captures both increasing and decreasing trends, without \n",
    "assuming linearity.\n",
    "If the Spearman's correlation coefficient is close to 1, such as 0.9 or 0.95, it indicates a strong positive monotonic \n",
    "relationship. This means that as the amount of sleep individuals get each night increases, their overall job satisfaction \n",
    "tends to increase as well (and vice versa).\n",
    "If the coefficient is close to -1, such as -0.9 or -0.95, it indicates a strong negative monotonic relationship. This implies \n",
    "that as the amount of sleep individuals get each night increases, their overall job satisfaction tends to decrease (and vice\n",
    "versa).\n",
    "If the coefficient is close to 0, such as 0.1 or -0.1, it indicates a weak or no monotonic relationship between the two\n",
    "variables. This suggests that the amount of sleep individuals get each night does not have a significant impact on their\n",
    "overall job satisfaction."
   ]
  },
  {
   "cell_type": "code",
   "execution_count": null,
   "id": "4731e28a-39f3-4a7c-a99b-96718b56b9fe",
   "metadata": {},
   "outputs": [],
   "source": [
    "\"\"\"\n",
    "Q3. Suppose you are conducting a study to examine the relationship between the number of hours of\n",
    "exercise per week and body mass index (BMI) in a sample of adults. You collected data on both variables\n",
    "for 50 participants. Calculate the Pearson correlation coefficient and the Spearman's rank correlation\n",
    "between these two variables and compare the results."
   ]
  },
  {
   "cell_type": "code",
   "execution_count": 7,
   "id": "98a4a76a-b9f3-4646-8845-f255752098fb",
   "metadata": {},
   "outputs": [
    {
     "name": "stdout",
     "output_type": "stream",
     "text": [
      "Pearson correlation coefficient: -0.486672031050626\n",
      "Spearman's rank correlation: -0.4861302939134209\n"
     ]
    }
   ],
   "source": [
    "import numpy as np\n",
    "from scipy.stats import pearsonr, spearmanr\n",
    "\n",
    "# Sample data\n",
    "hours_of_exercise = np.array([5, 7, 4, 2, 6, 3, 5, 1, 4, 2, 3, 6, 2, 1, 4, 5, 3, 6, 7, 2, 3, 4, 6, 5, 1,\n",
    "                             2, 3, 5, 7, 4, 6, 2, 1, 3, 5, 6, 7, 2, 4, 3, 1, 6, 5, 4, 2, 3, 5, 1, 6, 4])\n",
    "bmi = np.array([22.3, 25.1, 24.5, 28.2, 21.9, 26.8, 23.7, 29.4, 24.1, 27.9, 26.2, 21.4, 28.7, 30.2, 25.7,\n",
    "                22.9, 25.8, 21.7, 20.5, 27.5, 26.3, 25.2, 20.8, 22.4, 29.8, 28.3, 26.6, 23.2, 20.1, 24.9,\n",
    "                22.7, 27.4, 25.6, 23.3, 20.2, 26.1, 26.9, 25.4, 29.9, 22.6, 23.9, 25.9, 30.6, 21.1, 23.5,\n",
    "                25.3, 28.1, 21.5, 24.6, 26.7])\n",
    "\n",
    "# Pearson correlation coefficient\n",
    "pearson_corr, _ = pearsonr(hours_of_exercise, bmi)\n",
    "\n",
    "# Spearman's rank correlation\n",
    "spearman_corr, _ = spearmanr(hours_of_exercise, bmi)\n",
    "\n",
    "print(\"Pearson correlation coefficient:\", pearson_corr)\n",
    "print(\"Spearman's rank correlation:\", spearman_corr)\n"
   ]
  },
  {
   "cell_type": "code",
   "execution_count": null,
   "id": "d72d76a6-4796-4818-a51e-97787f37a3f3",
   "metadata": {},
   "outputs": [],
   "source": []
  },
  {
   "cell_type": "code",
   "execution_count": null,
   "id": "51762f8f-cbbc-4339-8ee5-88de9dcfc5d4",
   "metadata": {},
   "outputs": [],
   "source": [
    "\"\"\"\n",
    "Q4. A researcher is interested in examining the relationship between the number of hours individuals\n",
    "spend watching television per day and their level of physical activity. The researcher collected data on\n",
    "both variables from a sample of 50 participants. Calculate the Pearson correlation coefficient between\n",
    "these two variables."
   ]
  },
  {
   "cell_type": "code",
   "execution_count": 25,
   "id": "3176868e-5244-4cb0-8f59-4a2425236c19",
   "metadata": {},
   "outputs": [
    {
     "data": {
      "text/plain": [
       "PearsonRResult(statistic=-0.486672031050626, pvalue=0.00033874169013538643)"
      ]
     },
     "execution_count": 25,
     "metadata": {},
     "output_type": "execute_result"
    }
   ],
   "source": [
    "television_perday = np.array([5, 7, 4, 2, 6, 3, 5, 1, 4, 2, 3, 6, 2, 1, 4, 5, 3, 6, 7, 2, 3, 4, 6, 5, 1,\n",
    "                             2, 3, 5, 7, 4, 6, 2, 1, 3, 5, 6, 7, 2, 4, 3, 1, 6, 5, 4, 2, 3, 5, 1, 6, 4])\n",
    "activity_perday =  np.array([22.3, 25.1, 24.5, 28.2, 21.9, 26.8, 23.7, 29.4, 24.1, 27.9, 26.2, 21.4, 28.7, 30.2, 25.7,\n",
    "                22.9, 25.8, 21.7, 20.5, 27.5, 26.3, 25.2, 20.8, 22.4, 29.8, 28.3, 26.6, 23.2, 20.1, 24.9,\n",
    "                22.7, 27.4, 25.6, 23.3, 20.2, 26.1, 26.9, 25.4, 29.9, 22.6, 23.9, 25.9, 30.6, 21.1, 23.5,\n",
    "                25.3, 28.1, 21.5, 24.6, 26.7])\n",
    "stats.pearsonr(television_perday , activity_perday)"
   ]
  },
  {
   "cell_type": "code",
   "execution_count": null,
   "id": "39ff33e7-846c-47c2-83af-2c79f705246a",
   "metadata": {},
   "outputs": [],
   "source": []
  },
  {
   "cell_type": "code",
   "execution_count": null,
   "id": "3d1e9d22-d554-454f-947d-517e39ef2a33",
   "metadata": {},
   "outputs": [],
   "source": []
  },
  {
   "cell_type": "code",
   "execution_count": null,
   "id": "5645fabe-6f03-4dc7-b138-c3f98feeba07",
   "metadata": {},
   "outputs": [],
   "source": [
    "\"\"\"\n",
    "Q5. A survey was conducted to examine the relationship between age and preference for a particular\n",
    "brand of soft drink. The survey results are shown below:\n",
    "Age(Years)      Soft drink Preference\n",
    "25              Coke\n",
    "42              Pepsi\n",
    "37              Mountain dew \n",
    "19              Coke\n",
    "31              pepsi\n",
    "28              coke"
   ]
  },
  {
   "cell_type": "code",
   "execution_count": null,
   "id": "3817beab-562f-4d73-82bd-498485365478",
   "metadata": {},
   "outputs": [],
   "source": [
    "\"\"\"\n",
    "Coke: 1\n",
    "Pepsi: 2\n",
    "Mountain Dew: 3\n",
    "With this mapping, you can calculate the correlation coefficient using Python. Here's an example:"
   ]
  },
  {
   "cell_type": "code",
   "execution_count": 51,
   "id": "2e726429-991d-4522-8dc5-1f8997ae7e9e",
   "metadata": {},
   "outputs": [
    {
     "name": "stdout",
     "output_type": "stream",
     "text": [
      "Spearman's rank correlation: 0.8332380897952965\n"
     ]
    }
   ],
   "source": [
    "import numpy as np\n",
    "from scipy.stats import spearmanr\n",
    "\n",
    "# Sample data\n",
    "age = np.array([25, 42, 37, 19, 31, 28])\n",
    "preference = np.array([1, 2, 3, 1, 2, 1])\n",
    "\n",
    "# Spearman's rank correlation\n",
    "spearman_corr, _ = spearmanr(age, preference)\n",
    "\n",
    "print(\"Spearman's rank correlation:\", spearman_corr)\n"
   ]
  },
  {
   "cell_type": "code",
   "execution_count": null,
   "id": "530f85d8-9ca7-4c4b-9d19-1ded95087ffb",
   "metadata": {},
   "outputs": [],
   "source": []
  },
  {
   "cell_type": "code",
   "execution_count": null,
   "id": "d8a10cd6-63d8-4c64-a6e8-7658280dfeed",
   "metadata": {},
   "outputs": [],
   "source": []
  },
  {
   "cell_type": "code",
   "execution_count": null,
   "id": "87415812-3d19-4554-b8e3-59c3a64457ae",
   "metadata": {},
   "outputs": [],
   "source": [
    "\"\"\"\n",
    "Q6. A company is interested in examining the relationship between the number of sales calls made per day\n",
    "and the number of sales made per week. The company collected data on both variables from a sample of\n",
    "30 sales representatives. Calculate the Pearson correlation coefficient between these two variables."
   ]
  },
  {
   "cell_type": "code",
   "execution_count": 52,
   "id": "f4aec02c-e246-47f7-8d2a-e626c83ca0fa",
   "metadata": {},
   "outputs": [
    {
     "name": "stdout",
     "output_type": "stream",
     "text": [
      "Pearson correlation coefficient: 0.9818405521919286\n"
     ]
    }
   ],
   "source": [
    "import numpy as np\n",
    "from scipy.stats import pearsonr\n",
    "\n",
    "# Sample data\n",
    "sales_calls_per_day = np.array([12, 10, 9, 15, 13, 11, 14, 10, 8, 16, 12, 15, 9, 11, 13, 14, 15, 10, 12, 11,\n",
    "                               13, 14, 9, 16, 12, 10, 15, 11, 14, 13])\n",
    "sales_per_week = np.array([25, 20, 18, 30, 28, 22, 27, 19, 16, 32, 24, 29, 18, 21, 26, 28, 30, 20, 23, 20,\n",
    "                           27, 28, 17, 31, 22, 19, 30, 23, 29, 25])\n",
    "\n",
    "# Pearson correlation coefficient\n",
    "pearson_corr, _ = pearsonr(sales_calls_per_day, sales_per_week)\n",
    "\n",
    "print(\"Pearson correlation coefficient:\", pearson_corr)\n"
   ]
  },
  {
   "cell_type": "code",
   "execution_count": null,
   "id": "6733e90e-d2bf-44ed-ab99-be2936d4ffec",
   "metadata": {},
   "outputs": [],
   "source": []
  },
  {
   "cell_type": "code",
   "execution_count": null,
   "id": "50d1cb2c-97ad-4c65-9e28-13a3c563327a",
   "metadata": {},
   "outputs": [],
   "source": []
  }
 ],
 "metadata": {
  "kernelspec": {
   "display_name": "Python 3 (ipykernel)",
   "language": "python",
   "name": "python3"
  },
  "language_info": {
   "codemirror_mode": {
    "name": "ipython",
    "version": 3
   },
   "file_extension": ".py",
   "mimetype": "text/x-python",
   "name": "python",
   "nbconvert_exporter": "python",
   "pygments_lexer": "ipython3",
   "version": "3.10.6"
  }
 },
 "nbformat": 4,
 "nbformat_minor": 5
}
